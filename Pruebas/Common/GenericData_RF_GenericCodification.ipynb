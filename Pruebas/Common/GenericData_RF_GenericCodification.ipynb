{
 "cells": [
  {
   "cell_type": "markdown",
   "metadata": {},
   "source": [
    "# <font color=#cd0000> Propósito principal </font>\n",
    "- La idea de este librillo es preparar el entorno para realizar pruebas para cualquier DataSet a ser clasificado por cualquier codificación aplicada a RF\n",
    "\n",
    "## <font color=#cd0000> Leyenda </font>\n",
    "- Los apartados titulados con el código de colores HEX: `#cd0000` serán apartados que tendrán todos los librillos, en concreto, aquellos especificados en el apartado `Síntesis de los criterios usados` del trabajo.\n",
    "- Los apartados titulados con el código de colores HEX: `#2451ff` serán apartados de conclusiones propias de este librillo resultado de aplicar un estudio personalizado para cada planteamiento."
   ]
  },
  {
   "cell_type": "markdown",
   "metadata": {},
   "source": [
    "# <font color=#cd0000> Prerrequisitos </font>\n",
    "## <font color=#cd0000> Entorno de ejecución </font>\n",
    "- Cambiamos el directorio raíz del librillo para acceder cómodamente a las funciones de utilidad."
   ]
  },
  {
   "cell_type": "code",
   "execution_count": null,
   "metadata": {},
   "outputs": [],
   "source": [
    "import os\n",
    "\n",
    "os.chdir('../..')\n",
    "os.listdir()\n"
   ]
  },
  {
   "cell_type": "markdown",
   "metadata": {},
   "source": [
    "## <font color=#cd0000> Constantes y variables predefinidas </font>\n",
    "- TODO -> Añadir SEED a todas las particiones."
   ]
  },
  {
   "cell_type": "code",
   "execution_count": null,
   "metadata": {},
   "outputs": [],
   "source": [
    "HEARTBEAT_PATH = \"data/heartbeat\"\n",
    "EPILEPSY_PATH = \"data/epilepsy\"\n",
    "SEGUIMIENTO_OCULAR_PATH = \"data/seguimiento-ocular/Data/Hospital\"\n",
    "SEGUIMIENTO_OCULAR_FOLDERS_ID = range(1, 12+1)\n",
    "\n",
    "SEED = 1"
   ]
  },
  {
   "cell_type": "markdown",
   "metadata": {},
   "source": [
    "# <font color=#cd0000> Carga del Dataset </font>\n",
    "- TODO: Breve descripción"
   ]
  },
  {
   "cell_type": "code",
   "execution_count": null,
   "metadata": {},
   "outputs": [],
   "source": [
    "# TODO - Change with known data\n",
    "from utils.load_data import import_epilepsy_dataset\n",
    "\n",
    "# train, test = import_heartbeat_dataset(HEARTBEAT_PATH)\n",
    "# all_data = Data(Data.concat_data(\n",
    "#     train.original_data, test.original_data))\n",
    "# pickle.dump(all_data, open(\"HeartBeat_tmp_data.pkl\", 'wb'))\n"
   ]
  },
  {
   "cell_type": "code",
   "execution_count": null,
   "metadata": {},
   "outputs": [],
   "source": [
    "import pickle\n",
    "\n",
    "all_data = pickle.load(open(\"HeartBeat_tmp_data.pkl\", 'rb'))"
   ]
  },
  {
   "cell_type": "code",
   "execution_count": null,
   "metadata": {},
   "outputs": [],
   "source": [
    "all_data.reset_changes()\n"
   ]
  },
  {
   "cell_type": "markdown",
   "metadata": {},
   "source": [
    "# <font color=#cd0000> Preprocesamiento </font>"
   ]
  },
  {
   "cell_type": "markdown",
   "metadata": {},
   "source": [
    "## <font color=#cd0000> Eliminación de datos inválidos y valores atípicos </font>\n",
    "- TODO: Breve descripción de qué es un dato inválido (-1's en columna, etc.)\n",
    "- Eliminaremos aquellos valores fuera de los percentiles 5 y 95.\n",
    "- TODO: Definiremos cuál será el límite de outliers permitido por serie temporal"
   ]
  },
  {
   "cell_type": "code",
   "execution_count": null,
   "metadata": {},
   "outputs": [],
   "source": [
    "# TODO - Remove invalid data"
   ]
  },
  {
   "cell_type": "code",
   "execution_count": null,
   "metadata": {},
   "outputs": [],
   "source": [
    "all_data.remove_outliers(\n",
    "    headers=all_data.get_derived_data_columns()['attrs'],\n",
    "    outliers_limit=.3\n",
    ")\n"
   ]
  },
  {
   "cell_type": "code",
   "execution_count": null,
   "metadata": {},
   "outputs": [],
   "source": [
    "import pandas as pd\n",
    "\n",
    "# Remaining series\n",
    "print(\"Previous number of series: {}\".format(\n",
    "    len(pd.unique(all_data.original_data['id']))))\n",
    "print(\"Actual number of series: {}\".format(\n",
    "    len(pd.unique(all_data.derived_data['id']))))\n"
   ]
  },
  {
   "cell_type": "markdown",
   "metadata": {},
   "source": [
    "## <font color=#cd0000> Resoluciones a aplicar </font>\n",
    "- TODO:\n",
    "  - Si las series son rápidas (muchos cambios en poco tiempo) especificar resoluciones altas (sin modificaciones).\n",
    "  - Si las series son lentas (pocos cambios en mucho tiempo) especificar resoluciones bajas (eliminamos datos)."
   ]
  },
  {
   "cell_type": "code",
   "execution_count": null,
   "metadata": {},
   "outputs": [],
   "source": [
    "# Series lentas\n",
    "all_data.reduce_sampling_rate(remove_one_each_n_samples=2)\n",
    "all_data.derived_data"
   ]
  },
  {
   "cell_type": "markdown",
   "metadata": {},
   "source": [
    "# <font color=#cd0000> Codificación </font>\n",
    "- TODO: Breve descripción de la codificación"
   ]
  },
  {
   "cell_type": "markdown",
   "metadata": {},
   "source": [
    "# <font color=#cd0000> División en ventanas </font>\n",
    "- Solo aplicaremos enventanado si no ha sido aplicado anteriormente\n",
    "- TODO: Especificar tamaño de ventana esperado como mejor y adjuntar otro tamaño de ventana para comparar (al menos 2 más)\n",
    "- TODO: No es necesario aplicar siempre el enventanado, revisar análisis en profundidad."
   ]
  },
  {
   "cell_type": "code",
   "execution_count": null,
   "metadata": {},
   "outputs": [],
   "source": [
    "# Estudiamos eventos globales (series lentas)\n",
    "ws_x = all_data.get_shortest_serie().shape[0]\n",
    "all_data_ws_x, all_data_windows_per_serie_x = \\\n",
    "    all_data.split_into_windows(all_data.derived_data, window_size=ws_x)\n",
    "\n",
    "# Estudiamos eventos locales (series rápidas)\n",
    "ws_y = int(all_data.get_shortest_serie().shape[0]/2)\n",
    "all_data_ws_y, all_data_windows_per_serie_y =\\\n",
    "    all_data.split_into_windows(all_data.derived_data, window_size=ws_y)"
   ]
  },
  {
   "cell_type": "code",
   "execution_count": null,
   "metadata": {},
   "outputs": [],
   "source": [
    "from utils.data_extraction import Data\n",
    "\n",
    "all_data_large_windows = Data(all_data_ws_x, all_data_windows_per_serie_x)\n",
    "all_data_short_windows = Data(all_data_ws_y, all_data_windows_per_serie_y)"
   ]
  },
  {
   "cell_type": "markdown",
   "metadata": {},
   "source": [
    "## <font color=#cd0000> Codificación sobre las ventanas </font>"
   ]
  },
  {
   "cell_type": "code",
   "execution_count": null,
   "metadata": {},
   "outputs": [],
   "source": [
    "from utils.codifications import temporal_trend_fn\n",
    "\n",
    "all_data_large_windows.apply_codifications([temporal_trend_fn])"
   ]
  },
  {
   "cell_type": "markdown",
   "metadata": {},
   "source": [
    "## <font color=#cd0000> Partición de los datos </font>"
   ]
  },
  {
   "cell_type": "code",
   "execution_count": null,
   "metadata": {},
   "outputs": [],
   "source": [
    "from utils.data_extraction import Data\n",
    "\n",
    "X_train_Data, X_test_Data, y_train, y_test = all_data.train_test_split(\n",
    "    criterion='windowed',\n",
    "    train_size=.8,\n",
    "    random_state=SEED,\n",
    "    drop_columns=[]\n",
    ")\n",
    "\n",
    "X_train_Data = Data(X_train_Data)\n",
    "X_test_Data = Data(X_test_Data)\n"
   ]
  },
  {
   "cell_type": "markdown",
   "metadata": {},
   "source": [
    "# <font color=#cd0000> Diseño de la topología del bosque </font>\n",
    "- Número de estimadores inicial recomendado\n",
    "- Profundidad máxima recomendada"
   ]
  },
  {
   "cell_type": "markdown",
   "metadata": {},
   "source": [
    "## <font color=#cd0000> Preparación de los datos </font>"
   ]
  },
  {
   "cell_type": "code",
   "execution_count": null,
   "metadata": {},
   "outputs": [],
   "source": [
    "X_train = X_train_Data.derived_data.drop(['id', 'class'], axis=1)\n",
    "X_test = X_test_Data.derived_data.drop(['id', 'class'], axis=1)"
   ]
  },
  {
   "cell_type": "markdown",
   "metadata": {},
   "source": [
    "## <font color=#cd0000> Entrenamiento </font>"
   ]
  },
  {
   "cell_type": "code",
   "execution_count": null,
   "metadata": {},
   "outputs": [],
   "source": [
    "from sklearn.ensemble import RandomForestClassifier\n",
    "\n",
    "clf = RandomForestClassifier(n_estimators=100, max_depth=10, random_state=SEED)\n",
    "clf.fit(X_train, y_train)"
   ]
  },
  {
   "cell_type": "markdown",
   "metadata": {},
   "source": [
    "## <font color=#cd0000> Clasificación </font>"
   ]
  },
  {
   "cell_type": "code",
   "execution_count": null,
   "metadata": {},
   "outputs": [],
   "source": [
    "import numpy as np\n",
    "from sklearn.metrics import confusion_matrix, classification_report\n",
    "\n",
    "y_pred = clf.predict(X_test)\n",
    "y_true = np.asarray(y_test)\n",
    "    \n",
    "print(confusion_matrix(y_true, y_pred))\n",
    "print(classification_report(y_true, y_pred, zero_division=0))\n"
   ]
  },
  {
   "cell_type": "markdown",
   "metadata": {},
   "source": [
    "## <font color=#cd0000> Discusión y conclusiones </font>\n",
    "- TODO"
   ]
  },
  {
   "cell_type": "markdown",
   "metadata": {},
   "source": [
    "# <font color=#cd0000> Randomized Search </font>\n",
    "- Búsqueda de hiper-parámetros aleatoria con RF maximizando ``macro avg f1-score``"
   ]
  },
  {
   "cell_type": "markdown",
   "metadata": {},
   "source": [
    "## <font color=#cd0000> Rangos de búsqueda </font>\n",
    "- Como vimos anteriormente los rangos de búsqueda aleatoria de los mejores hiper-parámetros serán los siguientes"
   ]
  },
  {
   "cell_type": "code",
   "execution_count": null,
   "metadata": {},
   "outputs": [],
   "source": [
    "N_ESTIMATORS_RANGE = TODO\n",
    "MAX_DEPTH_RANGE = TODO"
   ]
  },
  {
   "cell_type": "code",
   "execution_count": null,
   "metadata": {},
   "outputs": [],
   "source": [
    "import random\n",
    "import pickle\n",
    "import utils.constants as cs\n",
    "from sklearn.ensemble import RandomForestClassifier\n",
    "from utils.classifier_utils import (windowed_cross_val,\n",
    "                                    compute_classification_reports_means)\n",
    "from utils.plot_utils import pretty_print_classification_report_dict\n",
    "\n",
    "PKL_DIR = 'pkl/RF/<dataset>/'\n",
    "\n",
    "\n",
    "def rf_randomized_search_cv(\n",
    "        windowed_series,\n",
    "        relation_with_series,\n",
    "        prefix,\n",
    "        cv=5):\n",
    "    global PKL_DIR\n",
    "    all_clf_used = {}\n",
    "\n",
    "    n_samples = 5\n",
    "    n_estimators_list = random.sample(list(N_ESTIMATORS_RANGE), n_samples)\n",
    "    max_depth_list = random.sample(list(MAX_DEPTH_RANGE), n_samples)\n",
    "\n",
    "    best_hyp_params = None\n",
    "    best_score = 0\n",
    "    for n_estimators in n_estimators_list:\n",
    "        for max_depth in max_depth_list:\n",
    "            clf = RandomForestClassifier(\n",
    "                n_estimators=n_estimators,\n",
    "                max_depth=max_depth,\n",
    "                random_state=SEED\n",
    "            )\n",
    "\n",
    "            reports = windowed_cross_val(\n",
    "                clf,\n",
    "                windowed_series,\n",
    "                relation_with_series,\n",
    "                estimator_type=cs.ESTIMATOR_SKLEARN,\n",
    "                cv=cv,\n",
    "                drop_columns=['id', 'class'],\n",
    "                seed=SEED\n",
    "            )\n",
    "            mean_report = compute_classification_reports_means(reports)\n",
    "            all_clf_used[(n_estimators, max_depth)] = mean_report\n",
    "\n",
    "            if mean_report['macro avg']['f1-score'][0] >= best_score:\n",
    "                best_score = mean_report['macro avg']['f1-score'][0]\n",
    "                best_hyp_params = (n_estimators, max_depth)\n",
    "                best_report = mean_report\n",
    "\n",
    "            print(\"\\t\\t--------------ACTUAL BEST: N_Estimators={}; Max_Depth={}--------------\"\n",
    "                  .format(best_hyp_params[0], best_hyp_params[1]))\n",
    "            pretty_print_classification_report_dict(best_report)\n",
    "            print(\"\\t\\t--------------ITERATION: N_Estimators={}; Max_Depth={}--------------\"\n",
    "                  .format(n_estimators, max_depth))\n",
    "            pretty_print_classification_report_dict(mean_report)\n",
    "\n",
    "    with open(PKL_DIR + prefix, 'wb') as file:\n",
    "        pickle.dump(all_clf_used, file)\n",
    "\n",
    "    return best_hyp_params, best_report\n"
   ]
  },
  {
   "cell_type": "code",
   "execution_count": null,
   "metadata": {},
   "outputs": [],
   "source": [
    "PKL_NAME = \"rf_sample.pkl\"\n",
    "\n",
    "rf_randomized_search_cv(\n",
    "    X_train_Data.derived_data,\n",
    "    X_train_Data.derived_data_windows_per_serie,\n",
    "    PKL_NAME,\n",
    "    cv=5)\n"
   ]
  },
  {
   "cell_type": "markdown",
   "metadata": {},
   "source": [
    "# <font color=#cd0000> Randomized Search con múltiples ejecuciones en lugar de Validación Cruzada </font>\n",
    "- Solo si tenemos pocos datos\n",
    "- Ejecutaremos el mismo modelo sobre diferentes particiones del conjunto de datos original para observar su desempeño."
   ]
  },
  {
   "cell_type": "code",
   "execution_count": null,
   "metadata": {},
   "outputs": [],
   "source": [
    "# TODO"
   ]
  },
  {
   "cell_type": "code",
   "execution_count": null,
   "metadata": {},
   "outputs": [],
   "source": []
  },
  {
   "cell_type": "markdown",
   "metadata": {},
   "source": [
    "# <font color=#cd0000> Análisis de resultados </font>\n",
    "- Según la búsqueda aleatoria de hiper-parámetros, la mejor combinación, es la de ``n_estimators`` = TODO y ``max_depth`` = TODO:\n",
    "    ```\n",
    "        TODO\n",
    "    ```\n",
    "- Ahora vamos a visualizar la evolución de los resultados (25 resultados) para observar cómo avanza nuestra métrica objetivo -> Macro Average F1-Score."
   ]
  },
  {
   "cell_type": "code",
   "execution_count": null,
   "metadata": {},
   "outputs": [],
   "source": [
    "import pickle\n",
    "from utils.plot_utils import plot_score\n",
    "\n",
    "all_reports = pickle.load(open(PKL_DIR + PKL_NAME, 'rb'))"
   ]
  },
  {
   "cell_type": "code",
   "execution_count": null,
   "metadata": {},
   "outputs": [
    {
     "data": {
      "text/plain": [
       "{(49,\n",
       "  168): \"defaultdict(<function compute_classification_reports_means.<locals>.<lambda> at 0x0000025CB7C845E0>, {'accuracy': (0.7233689284324996, 0.05061900029750596), 'abnormal': defaultdict(<function compute_classification_reports_means.<locals>.<lambda>.<locals>.<lambda> at 0x0000025CBD425CA0>, {'precision': (0.7541104422971636, 0.06743790753482802), 'recall': (0.9270811701454365, 0.015901107315767472), 'f1-score': (0.8295537595629229, 0.0375325340349416), 'support': (18954.0, 1566.465448070911)}), 'normal': defaultdict(<function compute_classification_reports_means.<locals>.<lambda>.<locals>.<lambda> at 0x0000025CBD425D30>, {'precision': (0.4509960817786235, 0.10228114578319143), 'recall': (0.16701861959832973, 0.02201700921372155), 'f1-score': (0.23821859885908836, 0.01737480123923299), 'support': (6885.0, 1899.618382728489)}), 'macro avg': defaultdict(<function compute_classification_reports_means.<locals>.<lambda>.<locals>.<lambda> at 0x0000025CBD425DC0>, {'precision': (0.6025532620378936, 0.019908702656301503), 'recall': (0.5470498948718832, 0.005756204509081094), 'f1-score': (0.5338861792110057, 0.02263381283973385), 'support': (25839.0, 648.0)}), 'weighted avg': defaultdict(<function compute_classification_reports_means.<locals>.<lambda>.<locals>.<lambda> at 0x0000025CBD425E50>, {'precision': (0.685209248084893, 0.04342892094433508), 'recall': (0.7233689284324996, 0.05061900029750596), 'f1-score': (0.6748055653143311, 0.06996223706643603), 'support': (25839.0, 648.0)})})\",\n",
       " (49,\n",
       "  97): \"defaultdict(<function compute_classification_reports_means.<locals>.<lambda> at 0x0000025CBD425B80>, {'accuracy': (0.7233689284324996, 0.05061900029750596), 'abnormal': defaultdict(<function compute_classification_reports_means.<locals>.<lambda>.<locals>.<lambda> at 0x0000025CBD4610D0>, {'precision': (0.7541104422971636, 0.06743790753482802), 'recall': (0.9270811701454365, 0.015901107315767472), 'f1-score': (0.8295537595629229, 0.0375325340349416), 'support': (18954.0, 1566.465448070911)}), 'normal': defaultdict(<function compute_classification_reports_means.<locals>.<lambda>.<locals>.<lambda> at 0x0000025CBD461160>, {'precision': (0.4509960817786235, 0.10228114578319143), 'recall': (0.16701861959832973, 0.02201700921372155), 'f1-score': (0.23821859885908836, 0.01737480123923299), 'support': (6885.0, 1899.618382728489)}), 'macro avg': defaultdict(<function compute_classification_reports_means.<locals>.<lambda>.<locals>.<lambda> at 0x0000025CBD4611F0>, {'precision': (0.6025532620378936, 0.019908702656301503), 'recall': (0.5470498948718832, 0.005756204509081094), 'f1-score': (0.5338861792110057, 0.02263381283973385), 'support': (25839.0, 648.0)}), 'weighted avg': defaultdict(<function compute_classification_reports_means.<locals>.<lambda>.<locals>.<lambda> at 0x0000025CBD461280>, {'precision': (0.685209248084893, 0.04342892094433508), 'recall': (0.7233689284324996, 0.05061900029750596), 'f1-score': (0.6748055653143311, 0.06996223706643603), 'support': (25839.0, 648.0)})})\",\n",
       " (49,\n",
       "  82): \"defaultdict(<function compute_classification_reports_means.<locals>.<lambda> at 0x0000025CBD461F70>, {'accuracy': (0.7233689284324996, 0.05061900029750596), 'abnormal': defaultdict(<function compute_classification_reports_means.<locals>.<lambda>.<locals>.<lambda> at 0x0000025CBD4619D0>, {'precision': (0.7541104422971636, 0.06743790753482802), 'recall': (0.9270811701454365, 0.015901107315767472), 'f1-score': (0.8295537595629229, 0.0375325340349416), 'support': (18954.0, 1566.465448070911)}), 'normal': defaultdict(<function compute_classification_reports_means.<locals>.<lambda>.<locals>.<lambda> at 0x0000025CBD461A60>, {'precision': (0.4509960817786235, 0.10228114578319143), 'recall': (0.16701861959832973, 0.02201700921372155), 'f1-score': (0.23821859885908836, 0.01737480123923299), 'support': (6885.0, 1899.618382728489)}), 'macro avg': defaultdict(<function compute_classification_reports_means.<locals>.<lambda>.<locals>.<lambda> at 0x0000025CBD461AF0>, {'precision': (0.6025532620378936, 0.019908702656301503), 'recall': (0.5470498948718832, 0.005756204509081094), 'f1-score': (0.5338861792110057, 0.02263381283973385), 'support': (25839.0, 648.0)}), 'weighted avg': defaultdict(<function compute_classification_reports_means.<locals>.<lambda>.<locals>.<lambda> at 0x0000025CBD461B80>, {'precision': (0.685209248084893, 0.04342892094433508), 'recall': (0.7233689284324996, 0.05061900029750596), 'f1-score': (0.6748055653143311, 0.06996223706643603), 'support': (25839.0, 648.0)})})\",\n",
       " (49,\n",
       "  105): \"defaultdict(<function compute_classification_reports_means.<locals>.<lambda> at 0x0000025CBD425E50>, {'accuracy': (0.7233689284324996, 0.05061900029750596), 'abnormal': defaultdict(<function compute_classification_reports_means.<locals>.<lambda>.<locals>.<lambda> at 0x0000025CBD425F70>, {'precision': (0.7541104422971636, 0.06743790753482802), 'recall': (0.9270811701454365, 0.015901107315767472), 'f1-score': (0.8295537595629229, 0.0375325340349416), 'support': (18954.0, 1566.465448070911)}), 'normal': defaultdict(<function compute_classification_reports_means.<locals>.<lambda>.<locals>.<lambda> at 0x0000025CBD425AF0>, {'precision': (0.4509960817786235, 0.10228114578319143), 'recall': (0.16701861959832973, 0.02201700921372155), 'f1-score': (0.23821859885908836, 0.01737480123923299), 'support': (6885.0, 1899.618382728489)}), 'macro avg': defaultdict(<function compute_classification_reports_means.<locals>.<lambda>.<locals>.<lambda> at 0x0000025CBD425B80>, {'precision': (0.6025532620378936, 0.019908702656301503), 'recall': (0.5470498948718832, 0.005756204509081094), 'f1-score': (0.5338861792110057, 0.02263381283973385), 'support': (25839.0, 648.0)}), 'weighted avg': defaultdict(<function compute_classification_reports_means.<locals>.<lambda>.<locals>.<lambda> at 0x0000025CBD461670>, {'precision': (0.685209248084893, 0.04342892094433508), 'recall': (0.7233689284324996, 0.05061900029750596), 'f1-score': (0.6748055653143311, 0.06996223706643603), 'support': (25839.0, 648.0)})})\",\n",
       " (49,\n",
       "  45): \"defaultdict(<function compute_classification_reports_means.<locals>.<lambda> at 0x0000025CBD461280>, {'accuracy': (0.7226165468951539, 0.05079432169393357), 'abnormal': defaultdict(<function compute_classification_reports_means.<locals>.<lambda>.<locals>.<lambda> at 0x0000025CBD461F70>, {'precision': (0.7537547746671855, 0.06754672630424974), 'recall': (0.9263833802451689, 0.015418042705108636), 'f1-score': (0.8290634760713255, 0.03768249055903014), 'support': (18954.0, 1566.465448070911)}), 'normal': defaultdict(<function compute_classification_reports_means.<locals>.<lambda>.<locals>.<lambda> at 0x0000025CBD461040>, {'precision': (0.4468156024399884, 0.10076221745044105), 'recall': (0.16597343111352775, 0.022079898819572195), 'f1-score': (0.23660236215270242, 0.017736571215788303), 'support': (6885.0, 1899.618382728489)}), 'macro avg': defaultdict(<function compute_classification_reports_means.<locals>.<lambda>.<locals>.<lambda> at 0x0000025CBD461310>, {'precision': (0.600285188553587, 0.01905805385785576), 'recall': (0.5461784056793482, 0.005802240309657812), 'f1-score': (0.532832919112014, 0.022722922120534807), 'support': (25839.0, 648.0)}), 'weighted avg': defaultdict(<function compute_classification_reports_means.<locals>.<lambda>.<locals>.<lambda> at 0x0000025CBD4613A0>, {'precision': (0.683752732692697, 0.04405596835245957), 'recall': (0.7226165468951539, 0.05079432169393357), 'f1-score': (0.6740379129583761, 0.07016726878089379), 'support': (25839.0, 648.0)})})\",\n",
       " (15,\n",
       "  168): \"defaultdict(<function compute_classification_reports_means.<locals>.<lambda> at 0x0000025CBD425CA0>, {'accuracy': (0.7113140938458793, 0.04485659212147607), 'abnormal': defaultdict(<function compute_classification_reports_means.<locals>.<lambda>.<locals>.<lambda> at 0x0000025CBD461820>, {'precision': (0.7569353558166999, 0.0668353087691429), 'recall': (0.8963276382140106, 0.017889037262053063), 'f1-score': (0.8185933829036681, 0.035169161124759346), 'support': (18954.0, 1566.465448070911)}), 'normal': defaultdict(<function compute_classification_reports_means.<locals>.<lambda>.<locals>.<lambda> at 0x0000025CBD461790>, {'precision': (0.41760883444821956, 0.09696253557687094), 'recall': (0.20728821223507216, 0.021491847490728366), 'f1-score': (0.27056557864742403, 0.01255560806844005), 'support': (6885.0, 1899.618382728489)}), 'macro avg': defaultdict(<function compute_classification_reports_means.<locals>.<lambda>.<locals>.<lambda> at 0x0000025CBD461700>, {'precision': (0.5872720951324597, 0.01731683506956916), 'recall': (0.5518079252245414, 0.005303443594287228), 'f1-score': (0.544579480775546, 0.016474101760934407), 'support': (25839.0, 648.0)}), 'weighted avg': defaultdict(<function compute_classification_reports_means.<locals>.<lambda>.<locals>.<lambda> at 0x0000025CBD461C10>, {'precision': (0.6780471354667765, 0.046740399954359725), 'recall': (0.7113140938458793, 0.04485659212147607), 'f1-score': (0.6757742456792785, 0.06255844100726804), 'support': (25839.0, 648.0)})})\",\n",
       " (15,\n",
       "  97): \"defaultdict(<function compute_classification_reports_means.<locals>.<lambda> at 0x0000025CBD461550>, {'accuracy': (0.7113140938458793, 0.04485659212147607), 'abnormal': defaultdict(<function compute_classification_reports_means.<locals>.<lambda>.<locals>.<lambda> at 0x0000025CBD461EE0>, {'precision': (0.7569353558166999, 0.0668353087691429), 'recall': (0.8963276382140106, 0.017889037262053063), 'f1-score': (0.8185933829036681, 0.035169161124759346), 'support': (18954.0, 1566.465448070911)}), 'normal': defaultdict(<function compute_classification_reports_means.<locals>.<lambda>.<locals>.<lambda> at 0x0000025CBD461E50>, {'precision': (0.41760883444821956, 0.09696253557687094), 'recall': (0.20728821223507216, 0.021491847490728366), 'f1-score': (0.27056557864742403, 0.01255560806844005), 'support': (6885.0, 1899.618382728489)}), 'macro avg': defaultdict(<function compute_classification_reports_means.<locals>.<lambda>.<locals>.<lambda> at 0x0000025CBD461DC0>, {'precision': (0.5872720951324597, 0.01731683506956916), 'recall': (0.5518079252245414, 0.005303443594287228), 'f1-score': (0.544579480775546, 0.016474101760934407), 'support': (25839.0, 648.0)}), 'weighted avg': defaultdict(<function compute_classification_reports_means.<locals>.<lambda>.<locals>.<lambda> at 0x0000025CBD461D30>, {'precision': (0.6780471354667765, 0.046740399954359725), 'recall': (0.7113140938458793, 0.04485659212147607), 'f1-score': (0.6757742456792785, 0.06255844100726804), 'support': (25839.0, 648.0)})})\",\n",
       " (15,\n",
       "  82): \"defaultdict(<function compute_classification_reports_means.<locals>.<lambda> at 0x0000025CBD425F70>, {'accuracy': (0.7113140938458793, 0.04485659212147607), 'abnormal': defaultdict(<function compute_classification_reports_means.<locals>.<lambda>.<locals>.<lambda> at 0x0000025CBD461A60>, {'precision': (0.7569353558166999, 0.0668353087691429), 'recall': (0.8963276382140106, 0.017889037262053063), 'f1-score': (0.8185933829036681, 0.035169161124759346), 'support': (18954.0, 1566.465448070911)}), 'normal': defaultdict(<function compute_classification_reports_means.<locals>.<lambda>.<locals>.<lambda> at 0x0000025CBD461670>, {'precision': (0.41760883444821956, 0.09696253557687094), 'recall': (0.20728821223507216, 0.021491847490728366), 'f1-score': (0.27056557864742403, 0.01255560806844005), 'support': (6885.0, 1899.618382728489)}), 'macro avg': defaultdict(<function compute_classification_reports_means.<locals>.<lambda>.<locals>.<lambda> at 0x0000025CBD4613A0>, {'precision': (0.5872720951324597, 0.01731683506956916), 'recall': (0.5518079252245414, 0.005303443594287228), 'f1-score': (0.544579480775546, 0.016474101760934407), 'support': (25839.0, 648.0)}), 'weighted avg': defaultdict(<function compute_classification_reports_means.<locals>.<lambda>.<locals>.<lambda> at 0x0000025CBD461310>, {'precision': (0.6780471354667765, 0.046740399954359725), 'recall': (0.7113140938458793, 0.04485659212147607), 'f1-score': (0.6757742456792785, 0.06255844100726804), 'support': (25839.0, 648.0)})})\",\n",
       " (15,\n",
       "  105): \"defaultdict(<function compute_classification_reports_means.<locals>.<lambda> at 0x0000025CBD461790>, {'accuracy': (0.7113140938458793, 0.04485659212147607), 'abnormal': defaultdict(<function compute_classification_reports_means.<locals>.<lambda>.<locals>.<lambda> at 0x0000025CBD461CA0>, {'precision': (0.7569353558166999, 0.0668353087691429), 'recall': (0.8963276382140106, 0.017889037262053063), 'f1-score': (0.8185933829036681, 0.035169161124759346), 'support': (18954.0, 1566.465448070911)}), 'normal': defaultdict(<function compute_classification_reports_means.<locals>.<lambda>.<locals>.<lambda> at 0x0000025CBD461AF0>, {'precision': (0.41760883444821956, 0.09696253557687094), 'recall': (0.20728821223507216, 0.021491847490728366), 'f1-score': (0.27056557864742403, 0.01255560806844005), 'support': (6885.0, 1899.618382728489)}), 'macro avg': defaultdict(<function compute_classification_reports_means.<locals>.<lambda>.<locals>.<lambda> at 0x0000025CBD4619D0>, {'precision': (0.5872720951324597, 0.01731683506956916), 'recall': (0.5518079252245414, 0.005303443594287228), 'f1-score': (0.544579480775546, 0.016474101760934407), 'support': (25839.0, 648.0)}), 'weighted avg': defaultdict(<function compute_classification_reports_means.<locals>.<lambda>.<locals>.<lambda> at 0x0000025CBD4618B0>, {'precision': (0.6780471354667765, 0.046740399954359725), 'recall': (0.7113140938458793, 0.04485659212147607), 'f1-score': (0.6757742456792785, 0.06255844100726804), 'support': (25839.0, 648.0)})})\",\n",
       " (15,\n",
       "  45): \"defaultdict(<function compute_classification_reports_means.<locals>.<lambda> at 0x0000025CBD425D30>, {'accuracy': (0.7123556819079206, 0.04517368722794755), 'abnormal': defaultdict(<function compute_classification_reports_means.<locals>.<lambda>.<locals>.<lambda> at 0x0000025CBD461D30>, {'precision': (0.7575874790314681, 0.06708619271349858), 'recall': (0.8969559868659752, 0.017782221535383145), 'f1-score': (0.8192303112912903, 0.035325486594589804), 'support': (18954.0, 1566.465448070911)}), 'normal': defaultdict(<function compute_classification_reports_means.<locals>.<lambda>.<locals>.<lambda> at 0x0000025CBD461310>, {'precision': (0.42163226856137637, 0.09613537394324383), 'recall': (0.2098144732347631, 0.023766676265080312), 'f1-score': (0.27358719250132457, 0.015398847146545857), 'support': (6885.0, 1899.618382728489)}), 'macro avg': defaultdict(<function compute_classification_reports_means.<locals>.<lambda>.<locals>.<lambda> at 0x0000025CBD461E50>, {'precision': (0.5896098737964223, 0.017397097743301927), 'recall': (0.5533852300503692, 0.006814977321736358), 'f1-score': (0.5464087518963074, 0.01802745172492534), 'support': (25839.0, 648.0)}), 'weighted avg': defaultdict(<function compute_classification_reports_means.<locals>.<lambda>.<locals>.<lambda> at 0x0000025CBD461EE0>, {'precision': (0.6795293655958069, 0.04704751586001125), 'recall': (0.7123556819079206, 0.04517368722794755), 'f1-score': (0.6769541414235928, 0.06300726642386335), 'support': (25839.0, 648.0)})})\",\n",
       " (51,\n",
       "  168): \"defaultdict(<function compute_classification_reports_means.<locals>.<lambda> at 0x0000025CBD461A60>, {'accuracy': (0.7230393593467115, 0.05058554294765924), 'abnormal': defaultdict(<function compute_classification_reports_means.<locals>.<lambda>.<locals>.<lambda> at 0x0000025CBD461F70>, {'precision': (0.7539412390583113, 0.0674829226134215), 'recall': (0.9268530533145322, 0.0157436908391195), 'f1-score': (0.82935517519036, 0.03751441706845624), 'support': (18954.0, 1566.465448070911)}), 'normal': defaultdict(<function compute_classification_reports_means.<locals>.<lambda>.<locals>.<lambda> at 0x0000025CBD461040>, {'precision': (0.44926454278693956, 0.10157146923196078), 'recall': (0.1664706601324959, 0.022120191216605124), 'f1-score': (0.23736061693605076, 0.017390682190860356), 'support': (6885.0, 1899.618382728489)}), 'macro avg': defaultdict(<function compute_classification_reports_means.<locals>.<lambda>.<locals>.<lambda> at 0x0000025CBD461550>, {'precision': (0.6016028909226255, 0.01931154393499932), 'recall': (0.546661856723514, 0.00564480386542213), 'f1-score': (0.5333578960632053, 0.02269476821171483), 'support': (25839.0, 648.0)}), 'weighted avg': defaultdict(<function compute_classification_reports_means.<locals>.<lambda>.<locals>.<lambda> at 0x0000025CBD461820>, {'precision': (0.6845973873901661, 0.04364404562903104), 'recall': (0.7230393593467115, 0.05058554294765924), 'f1-score': (0.6744178308189538, 0.07003063031636425), 'support': (25839.0, 648.0)})})\",\n",
       " (51,\n",
       "  97): \"defaultdict(<function compute_classification_reports_means.<locals>.<lambda> at 0x0000025CBD4259D0>, {'accuracy': (0.7230393593467115, 0.05058554294765924), 'abnormal': defaultdict(<function compute_classification_reports_means.<locals>.<lambda>.<locals>.<lambda> at 0x0000025CBD461C10>, {'precision': (0.7539412390583113, 0.0674829226134215), 'recall': (0.9268530533145322, 0.0157436908391195), 'f1-score': (0.82935517519036, 0.03751441706845624), 'support': (18954.0, 1566.465448070911)}), 'normal': defaultdict(<function compute_classification_reports_means.<locals>.<lambda>.<locals>.<lambda> at 0x0000025CBD4613A0>, {'precision': (0.44926454278693956, 0.10157146923196078), 'recall': (0.1664706601324959, 0.022120191216605124), 'f1-score': (0.23736061693605076, 0.017390682190860356), 'support': (6885.0, 1899.618382728489)}), 'macro avg': defaultdict(<function compute_classification_reports_means.<locals>.<lambda>.<locals>.<lambda> at 0x0000025CBD461280>, {'precision': (0.6016028909226255, 0.01931154393499932), 'recall': (0.546661856723514, 0.00564480386542213), 'f1-score': (0.5333578960632053, 0.02269476821171483), 'support': (25839.0, 648.0)}), 'weighted avg': defaultdict(<function compute_classification_reports_means.<locals>.<lambda>.<locals>.<lambda> at 0x0000025CBD4614C0>, {'precision': (0.6845973873901661, 0.04364404562903104), 'recall': (0.7230393593467115, 0.05058554294765924), 'f1-score': (0.6744178308189538, 0.07003063031636425), 'support': (25839.0, 648.0)})})\",\n",
       " (51,\n",
       "  82): \"defaultdict(<function compute_classification_reports_means.<locals>.<lambda> at 0x0000025CBD461790>, {'accuracy': (0.7230393593467115, 0.05058554294765924), 'abnormal': defaultdict(<function compute_classification_reports_means.<locals>.<lambda>.<locals>.<lambda> at 0x0000025CBD4618B0>, {'precision': (0.7539412390583113, 0.0674829226134215), 'recall': (0.9268530533145322, 0.0157436908391195), 'f1-score': (0.82935517519036, 0.03751441706845624), 'support': (18954.0, 1566.465448070911)}), 'normal': defaultdict(<function compute_classification_reports_means.<locals>.<lambda>.<locals>.<lambda> at 0x0000025CBD461A60>, {'precision': (0.44926454278693956, 0.10157146923196078), 'recall': (0.1664706601324959, 0.022120191216605124), 'f1-score': (0.23736061693605076, 0.017390682190860356), 'support': (6885.0, 1899.618382728489)}), 'macro avg': defaultdict(<function compute_classification_reports_means.<locals>.<lambda>.<locals>.<lambda> at 0x0000025CBD461F70>, {'precision': (0.6016028909226255, 0.01931154393499932), 'recall': (0.546661856723514, 0.00564480386542213), 'f1-score': (0.5333578960632053, 0.02269476821171483), 'support': (25839.0, 648.0)}), 'weighted avg': defaultdict(<function compute_classification_reports_means.<locals>.<lambda>.<locals>.<lambda> at 0x0000025CBD461040>, {'precision': (0.6845973873901661, 0.04364404562903104), 'recall': (0.7230393593467115, 0.05058554294765924), 'f1-score': (0.6744178308189538, 0.07003063031636425), 'support': (25839.0, 648.0)})})\",\n",
       " (51,\n",
       "  105): \"defaultdict(<function compute_classification_reports_means.<locals>.<lambda> at 0x0000025CBD425B80>, {'accuracy': (0.7230393593467115, 0.05058554294765924), 'abnormal': defaultdict(<function compute_classification_reports_means.<locals>.<lambda>.<locals>.<lambda> at 0x0000025CBD461CA0>, {'precision': (0.7539412390583113, 0.0674829226134215), 'recall': (0.9268530533145322, 0.0157436908391195), 'f1-score': (0.82935517519036, 0.03751441706845624), 'support': (18954.0, 1566.465448070911)}), 'normal': defaultdict(<function compute_classification_reports_means.<locals>.<lambda>.<locals>.<lambda> at 0x0000025CBD461940>, {'precision': (0.44926454278693956, 0.10157146923196078), 'recall': (0.1664706601324959, 0.022120191216605124), 'f1-score': (0.23736061693605076, 0.017390682190860356), 'support': (6885.0, 1899.618382728489)}), 'macro avg': defaultdict(<function compute_classification_reports_means.<locals>.<lambda>.<locals>.<lambda> at 0x0000025CBD461430>, {'precision': (0.6016028909226255, 0.01931154393499932), 'recall': (0.546661856723514, 0.00564480386542213), 'f1-score': (0.5333578960632053, 0.02269476821171483), 'support': (25839.0, 648.0)}), 'weighted avg': defaultdict(<function compute_classification_reports_means.<locals>.<lambda>.<locals>.<lambda> at 0x0000025CBD461B80>, {'precision': (0.6845973873901661, 0.04364404562903104), 'recall': (0.7230393593467115, 0.05058554294765924), 'f1-score': (0.6744178308189538, 0.07003063031636425), 'support': (25839.0, 648.0)})})\",\n",
       " (51,\n",
       "  45): \"defaultdict(<function compute_classification_reports_means.<locals>.<lambda> at 0x0000025CBD461280>, {'accuracy': (0.7229512636698928, 0.05086268125189058), 'abnormal': defaultdict(<function compute_classification_reports_means.<locals>.<lambda>.<locals>.<lambda> at 0x0000025CBD4618B0>, {'precision': (0.7538561718255472, 0.06750710504820381), 'recall': (0.9267681521959492, 0.01540362186153278), 'f1-score': (0.8292868163890879, 0.03772582917226731), 'support': (18954.0, 1566.465448070911)}), 'normal': defaultdict(<function compute_classification_reports_means.<locals>.<lambda>.<locals>.<lambda> at 0x0000025CBD461A60>, {'precision': (0.44816501432385375, 0.10062942725400606), 'recall': (0.16605408118451598, 0.022281992160699236), 'f1-score': (0.23691136495995951, 0.018068867396574737), 'support': (6885.0, 1899.618382728489)}), 'macro avg': defaultdict(<function compute_classification_reports_means.<locals>.<lambda>.<locals>.<lambda> at 0x0000025CBD461F70>, {'precision': (0.6010105930747004, 0.018642996209957123), 'recall': (0.5464111166902328, 0.005508214855883056), 'f1-score': (0.5330990906745237, 0.022659117527186152), 'support': (25839.0, 648.0)}), 'weighted avg': defaultdict(<function compute_classification_reports_means.<locals>.<lambda>.<locals>.<lambda> at 0x0000025CBD461040>, {'precision': (0.684194794072545, 0.043814063373855475), 'recall': (0.7229512636698928, 0.05086268125189058), 'f1-score': (0.674300211748884, 0.07017087187542762), 'support': (25839.0, 648.0)})})\",\n",
       " (33,\n",
       "  168): \"defaultdict(<function compute_classification_reports_means.<locals>.<lambda> at 0x0000025CBD425310>, {'accuracy': (0.7203178697927177, 0.0490056907149938), 'abnormal': defaultdict(<function compute_classification_reports_means.<locals>.<lambda>.<locals>.<lambda> at 0x0000025CBD461B80>, {'precision': (0.7547442240070896, 0.06712291787296704), 'recall': (0.9193603345006753, 0.01617903793254865), 'f1-score': (0.826827270229772, 0.03687872312904616), 'support': (18954.0, 1566.465448070911)}), 'normal': defaultdict(<function compute_classification_reports_means.<locals>.<lambda>.<locals>.<lambda> at 0x0000025CBD461430>, {'precision': (0.44020491792884114, 0.10089523572592973), 'recall': (0.17679109939979507, 0.02085349796062577), 'f1-score': (0.2465599522190049, 0.014050833804114196), 'support': (6885.0, 1899.618382728489)}), 'macro avg': defaultdict(<function compute_classification_reports_means.<locals>.<lambda>.<locals>.<lambda> at 0x0000025CBD461940>, {'precision': (0.5974745709679654, 0.01868284962253927), 'recall': (0.5480757169502352, 0.0045765599708529415), 'f1-score': (0.5366936112243884, 0.020211466396965208), 'support': (25839.0, 648.0)}), 'weighted avg': defaultdict(<function compute_classification_reports_means.<locals>.<lambda>.<locals>.<lambda> at 0x0000025CBD461790>, {'precision': (0.6827353445456911, 0.04409207443261983), 'recall': (0.7203178697927177, 0.0490056907149938), 'f1-score': (0.6751878855598227, 0.06771966175670716), 'support': (25839.0, 648.0)})})\",\n",
       " (33,\n",
       "  97): \"defaultdict(<function compute_classification_reports_means.<locals>.<lambda> at 0x0000025CBD461820>, {'accuracy': (0.7203178697927177, 0.0490056907149938), 'abnormal': defaultdict(<function compute_classification_reports_means.<locals>.<lambda>.<locals>.<lambda> at 0x0000025CBD461F70>, {'precision': (0.7547442240070896, 0.06712291787296704), 'recall': (0.9193603345006753, 0.01617903793254865), 'f1-score': (0.826827270229772, 0.03687872312904616), 'support': (18954.0, 1566.465448070911)}), 'normal': defaultdict(<function compute_classification_reports_means.<locals>.<lambda>.<locals>.<lambda> at 0x0000025CBD461C10>, {'precision': (0.44020491792884114, 0.10089523572592973), 'recall': (0.17679109939979507, 0.02085349796062577), 'f1-score': (0.2465599522190049, 0.014050833804114196), 'support': (6885.0, 1899.618382728489)}), 'macro avg': defaultdict(<function compute_classification_reports_means.<locals>.<lambda>.<locals>.<lambda> at 0x0000025CBD482040>, {'precision': (0.5974745709679654, 0.01868284962253927), 'recall': (0.5480757169502352, 0.0045765599708529415), 'f1-score': (0.5366936112243884, 0.020211466396965208), 'support': (25839.0, 648.0)}), 'weighted avg': defaultdict(<function compute_classification_reports_means.<locals>.<lambda>.<locals>.<lambda> at 0x0000025CBD4820D0>, {'precision': (0.6827353445456911, 0.04409207443261983), 'recall': (0.7203178697927177, 0.0490056907149938), 'f1-score': (0.6751878855598227, 0.06771966175670716), 'support': (25839.0, 648.0)})})\",\n",
       " (33,\n",
       "  82): \"defaultdict(<function compute_classification_reports_means.<locals>.<lambda> at 0x0000025CBD482E50>, {'accuracy': (0.7203178697927177, 0.0490056907149938), 'abnormal': defaultdict(<function compute_classification_reports_means.<locals>.<lambda>.<locals>.<lambda> at 0x0000025CBD482A60>, {'precision': (0.7547442240070896, 0.06712291787296704), 'recall': (0.9193603345006753, 0.01617903793254865), 'f1-score': (0.826827270229772, 0.03687872312904616), 'support': (18954.0, 1566.465448070911)}), 'normal': defaultdict(<function compute_classification_reports_means.<locals>.<lambda>.<locals>.<lambda> at 0x0000025CBD4829D0>, {'precision': (0.44020491792884114, 0.10089523572592973), 'recall': (0.17679109939979507, 0.02085349796062577), 'f1-score': (0.2465599522190049, 0.014050833804114196), 'support': (6885.0, 1899.618382728489)}), 'macro avg': defaultdict(<function compute_classification_reports_means.<locals>.<lambda>.<locals>.<lambda> at 0x0000025CBD482940>, {'precision': (0.5974745709679654, 0.01868284962253927), 'recall': (0.5480757169502352, 0.0045765599708529415), 'f1-score': (0.5366936112243884, 0.020211466396965208), 'support': (25839.0, 648.0)}), 'weighted avg': defaultdict(<function compute_classification_reports_means.<locals>.<lambda>.<locals>.<lambda> at 0x0000025CBD4828B0>, {'precision': (0.6827353445456911, 0.04409207443261983), 'recall': (0.7203178697927177, 0.0490056907149938), 'f1-score': (0.6751878855598227, 0.06771966175670716), 'support': (25839.0, 648.0)})})\",\n",
       " (33,\n",
       "  105): \"defaultdict(<function compute_classification_reports_means.<locals>.<lambda> at 0x0000025CBD4259D0>, {'accuracy': (0.7203178697927177, 0.0490056907149938), 'abnormal': defaultdict(<function compute_classification_reports_means.<locals>.<lambda>.<locals>.<lambda> at 0x0000025CBD4618B0>, {'precision': (0.7547442240070896, 0.06712291787296704), 'recall': (0.9193603345006753, 0.01617903793254865), 'f1-score': (0.826827270229772, 0.03687872312904616), 'support': (18954.0, 1566.465448070911)}), 'normal': defaultdict(<function compute_classification_reports_means.<locals>.<lambda>.<locals>.<lambda> at 0x0000025CBD461DC0>, {'precision': (0.44020491792884114, 0.10089523572592973), 'recall': (0.17679109939979507, 0.02085349796062577), 'f1-score': (0.2465599522190049, 0.014050833804114196), 'support': (6885.0, 1899.618382728489)}), 'macro avg': defaultdict(<function compute_classification_reports_means.<locals>.<lambda>.<locals>.<lambda> at 0x0000025CBD461280>, {'precision': (0.5974745709679654, 0.01868284962253927), 'recall': (0.5480757169502352, 0.0045765599708529415), 'f1-score': (0.5366936112243884, 0.020211466396965208), 'support': (25839.0, 648.0)}), 'weighted avg': defaultdict(<function compute_classification_reports_means.<locals>.<lambda>.<locals>.<lambda> at 0x0000025CBD4610D0>, {'precision': (0.6827353445456911, 0.04409207443261983), 'recall': (0.7203178697927177, 0.0490056907149938), 'f1-score': (0.6751878855598227, 0.06771966175670716), 'support': (25839.0, 648.0)})})\",\n",
       " (33,\n",
       "  45): \"defaultdict(<function compute_classification_reports_means.<locals>.<lambda> at 0x0000025CBD425AF0>, {'accuracy': (0.7207604540495641, 0.04938333505008278), 'abnormal': defaultdict(<function compute_classification_reports_means.<locals>.<lambda>.<locals>.<lambda> at 0x0000025CBD4614C0>, {'precision': (0.7549828838109294, 0.06737982853034016), 'recall': (0.919662253620829, 0.015780187233594686), 'f1-score': (0.8270946024478022, 0.03713334934042136), 'support': (18954.0, 1566.465448070911)}), 'normal': defaultdict(<function compute_classification_reports_means.<locals>.<lambda>.<locals>.<lambda> at 0x0000025CBD461CA0>, {'precision': (0.44213928611466996, 0.09890594931951786), 'recall': (0.177799927036642, 0.021479593762940404), 'f1-score': (0.24788822013711648, 0.013918051727850921), 'support': (6885.0, 1899.618382728489)}), 'macro avg': defaultdict(<function compute_classification_reports_means.<locals>.<lambda>.<locals>.<lambda> at 0x0000025CBD461790>, {'precision': (0.5985610849627997, 0.017644755452976033), 'recall': (0.5487310903287355, 0.004708684635937557), 'f1-score': (0.5374914112924593, 0.020860771552122986), 'support': (25839.0, 648.0)}), 'weighted avg': defaultdict(<function compute_classification_reports_means.<locals>.<lambda>.<locals>.<lambda> at 0x0000025CBD461B80>, {'precision': (0.6833046527138482, 0.044659917847764706), 'recall': (0.7207604540495641, 0.04938333505008278), 'f1-score': (0.6756697688855718, 0.0681661076171572), 'support': (25839.0, 648.0)})})\",\n",
       " (50,\n",
       "  168): \"defaultdict(<function compute_classification_reports_means.<locals>.<lambda> at 0x0000025CBD4820D0>, {'accuracy': (0.7250722285105923, 0.05189773781617644), 'abnormal': defaultdict(<function compute_classification_reports_means.<locals>.<lambda>.<locals>.<lambda> at 0x0000025CBD482700>, {'precision': (0.7523566552028953, 0.06732330657287951), 'recall': (0.9345920780299408, 0.014283116768116097), 'f1-score': (0.8315295798165623, 0.038119158801942096), 'support': (18954.0, 1566.465448070911)}), 'normal': defaultdict(<function compute_classification_reports_means.<locals>.<lambda>.<locals>.<lambda> at 0x0000025CBD482670>, {'precision': (0.45425273424750945, 0.10473720256069757), 'recall': (0.15171417882528995, 0.019638528699343644), 'f1-score': (0.2225886805985914, 0.01706054755481576), 'support': (6885.0, 1899.618382728489)}), 'macro avg': defaultdict(<function compute_classification_reports_means.<locals>.<lambda>.<locals>.<lambda> at 0x0000025CBD4825E0>, {'precision': (0.6033046947252023, 0.020434915916278797), 'recall': (0.5431531284276154, 0.004557343448250945), 'f1-score': (0.5270591302075769, 0.022590527609871985), 'support': (25839.0, 648.0)}), 'weighted avg': defaultdict(<function compute_classification_reports_means.<locals>.<lambda>.<locals>.<lambda> at 0x0000025CBD4821F0>, {'precision': (0.684988909069359, 0.04209082849914968), 'recall': (0.7250722285105923, 0.05189773781617644), 'f1-score': (0.6721916171845609, 0.07149258311897173), 'support': (25839.0, 648.0)})})\",\n",
       " (50,\n",
       "  97): \"defaultdict(<function compute_classification_reports_means.<locals>.<lambda> at 0x0000025CBD425AF0>, {'accuracy': (0.7250722285105923, 0.05189773781617644), 'abnormal': defaultdict(<function compute_classification_reports_means.<locals>.<lambda>.<locals>.<lambda> at 0x0000025CBD461940>, {'precision': (0.7523566552028953, 0.06732330657287951), 'recall': (0.9345920780299408, 0.014283116768116097), 'f1-score': (0.8315295798165623, 0.038119158801942096), 'support': (18954.0, 1566.465448070911)}), 'normal': defaultdict(<function compute_classification_reports_means.<locals>.<lambda>.<locals>.<lambda> at 0x0000025CBD461C10>, {'precision': (0.45425273424750945, 0.10473720256069757), 'recall': (0.15171417882528995, 0.019638528699343644), 'f1-score': (0.2225886805985914, 0.01706054755481576), 'support': (6885.0, 1899.618382728489)}), 'macro avg': defaultdict(<function compute_classification_reports_means.<locals>.<lambda>.<locals>.<lambda> at 0x0000025CBD461F70>, {'precision': (0.6033046947252023, 0.020434915916278797), 'recall': (0.5431531284276154, 0.004557343448250945), 'f1-score': (0.5270591302075769, 0.022590527609871985), 'support': (25839.0, 648.0)}), 'weighted avg': defaultdict(<function compute_classification_reports_means.<locals>.<lambda>.<locals>.<lambda> at 0x0000025CBD4614C0>, {'precision': (0.684988909069359, 0.04209082849914968), 'recall': (0.7250722285105923, 0.05189773781617644), 'f1-score': (0.6721916171845609, 0.07149258311897173), 'support': (25839.0, 648.0)})})\",\n",
       " (50,\n",
       "  82): \"defaultdict(<function compute_classification_reports_means.<locals>.<lambda> at 0x0000025CBD4259D0>, {'accuracy': (0.7250722285105923, 0.05189773781617644), 'abnormal': defaultdict(<function compute_classification_reports_means.<locals>.<lambda>.<locals>.<lambda> at 0x0000025CBD482160>, {'precision': (0.7523566552028953, 0.06732330657287951), 'recall': (0.9345920780299408, 0.014283116768116097), 'f1-score': (0.8315295798165623, 0.038119158801942096), 'support': (18954.0, 1566.465448070911)}), 'normal': defaultdict(<function compute_classification_reports_means.<locals>.<lambda>.<locals>.<lambda> at 0x0000025CBD482DC0>, {'precision': (0.45425273424750945, 0.10473720256069757), 'recall': (0.15171417882528995, 0.019638528699343644), 'f1-score': (0.2225886805985914, 0.01706054755481576), 'support': (6885.0, 1899.618382728489)}), 'macro avg': defaultdict(<function compute_classification_reports_means.<locals>.<lambda>.<locals>.<lambda> at 0x0000025CBD482E50>, {'precision': (0.6033046947252023, 0.020434915916278797), 'recall': (0.5431531284276154, 0.004557343448250945), 'f1-score': (0.5270591302075769, 0.022590527609871985), 'support': (25839.0, 648.0)}), 'weighted avg': defaultdict(<function compute_classification_reports_means.<locals>.<lambda>.<locals>.<lambda> at 0x0000025CBD482A60>, {'precision': (0.684988909069359, 0.04209082849914968), 'recall': (0.7250722285105923, 0.05189773781617644), 'f1-score': (0.6721916171845609, 0.07149258311897173), 'support': (25839.0, 648.0)})})\",\n",
       " (50,\n",
       "  105): \"defaultdict(<function compute_classification_reports_means.<locals>.<lambda> at 0x0000025CBD461DC0>, {'accuracy': (0.7250722285105923, 0.05189773781617644), 'abnormal': defaultdict(<function compute_classification_reports_means.<locals>.<lambda>.<locals>.<lambda> at 0x0000025CBD461280>, {'precision': (0.7523566552028953, 0.06732330657287951), 'recall': (0.9345920780299408, 0.014283116768116097), 'f1-score': (0.8315295798165623, 0.038119158801942096), 'support': (18954.0, 1566.465448070911)}), 'normal': defaultdict(<function compute_classification_reports_means.<locals>.<lambda>.<locals>.<lambda> at 0x0000025CBD461940>, {'precision': (0.45425273424750945, 0.10473720256069757), 'recall': (0.15171417882528995, 0.019638528699343644), 'f1-score': (0.2225886805985914, 0.01706054755481576), 'support': (6885.0, 1899.618382728489)}), 'macro avg': defaultdict(<function compute_classification_reports_means.<locals>.<lambda>.<locals>.<lambda> at 0x0000025CBD461C10>, {'precision': (0.6033046947252023, 0.020434915916278797), 'recall': (0.5431531284276154, 0.004557343448250945), 'f1-score': (0.5270591302075769, 0.022590527609871985), 'support': (25839.0, 648.0)}), 'weighted avg': defaultdict(<function compute_classification_reports_means.<locals>.<lambda>.<locals>.<lambda> at 0x0000025CBD461F70>, {'precision': (0.684988909069359, 0.04209082849914968), 'recall': (0.7250722285105923, 0.05189773781617644), 'f1-score': (0.6721916171845609, 0.07149258311897173), 'support': (25839.0, 648.0)})})\",\n",
       " (50,\n",
       "  45): \"defaultdict(<function compute_classification_reports_means.<locals>.<lambda> at 0x0000025CBD4259D0>, {'accuracy': (0.7246675499632935, 0.05238134461982357), 'abnormal': defaultdict(<function compute_classification_reports_means.<locals>.<lambda>.<locals>.<lambda> at 0x0000025CBD482430>, {'precision': (0.7522145068486259, 0.06762249014074889), 'recall': (0.9341040213281794, 0.01387093954624851), 'f1-score': (0.8312470279354025, 0.03842610676759464), 'support': (18954.0, 1566.465448070911)}), 'normal': defaultdict(<function compute_classification_reports_means.<locals>.<lambda>.<locals>.<lambda> at 0x0000025CBD4823A0>, {'precision': (0.45173242645229017, 0.1013745683422913), 'recall': (0.15166479610924055, 0.020398526075990072), 'f1-score': (0.2222477594713001, 0.017603483314115393), 'support': (6885.0, 1899.618382728489)}), 'macro avg': defaultdict(<function compute_classification_reports_means.<locals>.<lambda>.<locals>.<lambda> at 0x0000025CBD482310>, {'precision': (0.6019734666504579, 0.018715605061820233), 'recall': (0.5428844087187098, 0.004937733885498889), 'f1-score': (0.5267473937033513, 0.023369294128944344), 'support': (25839.0, 648.0)}), 'weighted avg': defaultdict(<function compute_classification_reports_means.<locals>.<lambda>.<locals>.<lambda> at 0x0000025CBD482280>, {'precision': (0.6840100752384779, 0.043264952167033736), 'recall': (0.7246675499632935, 0.05238134461982357), 'f1-score': (0.6718292582785004, 0.07210447131393885), 'support': (25839.0, 648.0)})})\"}"
      ]
     },
     "metadata": {},
     "output_type": "display_data"
    }
   ],
   "source": [
    "all_reports"
   ]
  },
  {
   "cell_type": "markdown",
   "metadata": {},
   "source": [
    "# <font color=#cd0000> Evaluación sobre el conjunto de validación </font>\n",
    "- Vamos a llevar a cabo la evaluación final sobre el conjunto de validación (esto es lo que irá al apartado de ``Pruebas y Resultados`` de la memoria)."
   ]
  },
  {
   "cell_type": "markdown",
   "metadata": {},
   "source": [
    "## <font color=#cd0000> Preparación de los datos </font>"
   ]
  },
  {
   "cell_type": "code",
   "execution_count": null,
   "metadata": {},
   "outputs": [],
   "source": [
    "X_train = X_train_Data.derived_data.drop(['id'], axis=1)\n",
    "X_test = X_test_Data.derived_data.drop(['id'], axis=1)"
   ]
  },
  {
   "cell_type": "markdown",
   "metadata": {},
   "source": [
    "## <font color=#cd0000> Entrenamiento </font>"
   ]
  },
  {
   "cell_type": "code",
   "execution_count": null,
   "metadata": {},
   "outputs": [
    {
     "data": {
      "text/plain": [
       "RandomForestClassifier(max_depth=200, n_estimators=75, random_state=1)"
      ]
     },
     "metadata": {},
     "output_type": "display_data"
    }
   ],
   "source": [
    "from sklearn.ensemble import RandomForestClassifier\n",
    "\n",
    "clf = RandomForestClassifier(n_estimators=TODO, max_depth=TODO, random_state=SEED)\n",
    "clf.fit(X_train, y_train)\n"
   ]
  },
  {
   "cell_type": "markdown",
   "metadata": {},
   "source": [
    "## <font color=#cd0000> Clasificación </font>"
   ]
  },
  {
   "cell_type": "code",
   "execution_count": null,
   "metadata": {},
   "outputs": [
    {
     "name": "stdout",
     "output_type": "stream",
     "text": [
      "[[18810  1440]\n",
      " [ 9943  1397]]\n",
      "              precision    recall  f1-score   support\n",
      "\n",
      "    abnormal       0.65      0.93      0.77     20250\n",
      "      normal       0.49      0.12      0.20     11340\n",
      "\n",
      "    accuracy                           0.64     31590\n",
      "   macro avg       0.57      0.53      0.48     31590\n",
      "weighted avg       0.60      0.64      0.56     31590\n",
      "\n"
     ]
    }
   ],
   "source": [
    "import numpy as np\n",
    "from sklearn.metrics import confusion_matrix, classification_report\n",
    "\n",
    "y_pred = clf.predict(X_test)\n",
    "y_true = np.asarray(y_test)\n",
    "    \n",
    "print(confusion_matrix(y_true, y_pred))\n",
    "print(classification_report(y_true, y_pred, zero_division=0))\n"
   ]
  },
  {
   "cell_type": "markdown",
   "metadata": {},
   "source": [
    "# <font color=#cd0000> Conclusiones </font>\n",
    "- TODO - Unas breves conclusiones sobre los resultados obtenidos (influencia de la codificación, ...)"
   ]
  }
 ],
 "metadata": {
  "interpreter": {
   "hash": "a096ff48e453ebcfb843df4ab333716150f391fd6f6f069a95d41746473af77b"
  },
  "kernelspec": {
   "display_name": "Python 3.8.10 ('tfg_env')",
   "language": "python",
   "name": "python3"
  },
  "language_info": {
   "codemirror_mode": {
    "name": "ipython",
    "version": 3
   },
   "file_extension": ".py",
   "mimetype": "text/x-python",
   "name": "python",
   "nbconvert_exporter": "python",
   "pygments_lexer": "ipython3",
   "version": "3.8.10"
  },
  "orig_nbformat": 4
 },
 "nbformat": 4,
 "nbformat_minor": 2
}
